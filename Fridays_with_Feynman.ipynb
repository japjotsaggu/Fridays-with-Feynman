{
  "nbformat": 4,
  "nbformat_minor": 0,
  "metadata": {
    "colab": {
      "provenance": [],
      "authorship_tag": "ABX9TyMuGnCfryo/gSkLz+RVidJv",
      "include_colab_link": true
    },
    "kernelspec": {
      "name": "python3",
      "display_name": "Python 3"
    },
    "language_info": {
      "name": "python"
    }
  },
  "cells": [
    {
      "cell_type": "markdown",
      "metadata": {
        "id": "view-in-github",
        "colab_type": "text"
      },
      "source": [
        "<a href=\"https://colab.research.google.com/github/japjotsaggu/Fridays-with-Feynman/blob/main/Fridays_with_Feynman.ipynb\" target=\"_parent\"><img src=\"https://colab.research.google.com/assets/colab-badge.svg\" alt=\"Open In Colab\"/></a>"
      ]
    },
    {
      "cell_type": "code",
      "execution_count": null,
      "metadata": {
        "id": "uxfwSxSugfNI"
      },
      "outputs": [],
      "source": [
        "!pip install -q langchain==0.0.150 pypdf tiktoken  transformers openai faiss-cpu InstructorEmbedding sentence_transformers"
      ]
    },
    {
      "cell_type": "code",
      "source": [
        "import os\n",
        "import openai\n",
        "from langchain.document_loaders import PyPDFLoader\n",
        "from langchain.embeddings import HuggingFaceInstructEmbeddings\n",
        "from langchain.vectorstores import FAISS\n",
        "from langchain.chains.question_answering import load_qa_chain\n",
        "from langchain.llms import OpenAI\n",
        "from langchain.chains import ConversationalRetrievalChain"
      ],
      "metadata": {
        "id": "aTeE74P3goqe"
      },
      "execution_count": null,
      "outputs": []
    },
    {
      "cell_type": "code",
      "source": [
        "#loading combined pdf file (includes excerpts from Mr. Feynman's lectures, interviews and one of his books)\n",
        "loader = PyPDFLoader(\"/content/final_merging.pdf\")\n",
        "\n",
        "#splitting our file into chunks\n",
        "chunks = loader.load_and_split()"
      ],
      "metadata": {
        "id": "2HdYq8Z0hBD5"
      },
      "execution_count": null,
      "outputs": []
    },
    {
      "cell_type": "code",
      "source": [
        "#setting up the api environment\n",
        "api_key = str(input(\"enter your api key: \"))\n",
        "os.environ[\"OPENAI_API_KEY\"] = api_key"
      ],
      "metadata": {
        "id": "uxxrvi8PhDlN"
      },
      "execution_count": null,
      "outputs": []
    },
    {
      "cell_type": "code",
      "source": [
        "#Getting embedding model from HuggingFace and creating a vector database out of our chunks\n",
        "embeddings = HuggingFaceInstructEmbeddings(model_name = \"hku-nlp/instructor-base\")\n",
        "db = FAISS.from_documents(chunks, embeddings)"
      ],
      "metadata": {
        "id": "p7uDkpV0hUAv"
      },
      "execution_count": null,
      "outputs": []
    },
    {
      "cell_type": "code",
      "source": [
        "# Creating QA chain to integrate similarity search with user questions\n",
        "\n",
        "chain = load_qa_chain(OpenAI(temperature=0), chain_type=\"stuff\")"
      ],
      "metadata": {
        "id": "F55VFL6ChdOY"
      },
      "execution_count": null,
      "outputs": []
    },
    {
      "cell_type": "code",
      "source": [
        "from IPython.display import display\n",
        "import ipywidgets as widgets\n",
        "\n",
        "# Setting up chat history management - creating conversation chain that uses our db as retriver\n",
        "qa = ConversationalRetrievalChain.from_llm(OpenAI(temperature = 0.1), db.as_retriever(), max_tokens_limit = 3000)"
      ],
      "metadata": {
        "id": "P1I9FiSyhgIY"
      },
      "execution_count": null,
      "outputs": []
    },
    {
      "cell_type": "code",
      "source": [
        "#Bringing it all together - the actual widget\n",
        "chat_history = []\n",
        "\n",
        "def on_submit(_):\n",
        "    query = input_box.value\n",
        "    input_box.value = \"\"\n",
        "\n",
        "    if query.lower() == 'exit':\n",
        "        print(\"I enjoyed this chat, hope you did too! Come back soon to uncover more fascinating aspects of the world of Physics.\")\n",
        "        return\n",
        "\n",
        "    result = qa({\"question\": query, \"chat_history\": chat_history})\n",
        "    ans = result['answer']\n",
        "\n",
        "    prompt = f'''Explain the following in detail as Richard Feynman in first person:\n",
        "              \"{ans}\" '''\n",
        "\n",
        "    response = openai.Completion.create(engine=\"text-davinci-002\",  prompt=prompt, max_tokens = 500, api_key = api_key)\n",
        "\n",
        "    final_ans = response.choices[0].text\n",
        "\n",
        "    chat_history.append((query, final_ans))\n",
        "\n",
        "    display(widgets.HTML(f'<b>User:</b> {query}'))\n",
        "    display(widgets.HTML(f'<b><font color=\"blue\">Mr.Feynman:</font></b> {final_ans}'))\n",
        "\n",
        "print(\"It's a fine day for some FeynPhysics! Type 'exit' to stop.\")\n",
        "\n",
        "input_box = widgets.Text(placeholder='What fascinates you today?')\n",
        "input_box.on_submit(on_submit)\n",
        "\n",
        "display(input_box)"
      ],
      "metadata": {
        "id": "IHma3phehk-N"
      },
      "execution_count": null,
      "outputs": []
    }
  ]
}