{
  "nbformat": 4,
  "nbformat_minor": 0,
  "metadata": {
    "colab": {
      "provenance": [],
      "gpuType": "T4",
      "authorship_tag": "ABX9TyOHyOChELV6u4JZBRvcgU9T",
      "include_colab_link": true
    },
    "kernelspec": {
      "name": "python3",
      "display_name": "Python 3"
    },
    "language_info": {
      "name": "python"
    }
  },
  "cells": [
    {
      "cell_type": "markdown",
      "metadata": {
        "id": "view-in-github",
        "colab_type": "text"
      },
      "source": [
        "<a href=\"https://colab.research.google.com/github/japjotsaggu/Fridays-with-Feynman/blob/main/Fridays_with_Feynman.ipynb\" target=\"_parent\"><img src=\"https://colab.research.google.com/assets/colab-badge.svg\" alt=\"Open In Colab\"/></a>"
      ]
    },
    {
      "cell_type": "code",
      "execution_count": null,
      "metadata": {
        "id": "uxfwSxSugfNI"
      },
      "outputs": [],
      "source": [
        "!pip install -q langchain==0.0.150 pypdf  transformers openai faiss-cpu InstructorEmbedding sentence_transformers tiktoken"
      ]
    },
    {
      "cell_type": "code",
      "source": [
        "import os\n",
        "import openai\n",
        "from langchain.document_loaders import PyPDFLoader\n",
        "from langchain.embeddings import HuggingFaceInstructEmbeddings\n",
        "from langchain.vectorstores import FAISS\n",
        "from langchain.chains.question_answering import load_qa_chain\n",
        "from langchain.llms import OpenAI\n",
        "from langchain.chains import ConversationalRetrievalChain\n",
        "from IPython.display import display\n",
        "import ipywidgets as widgets\n",
        "import pickle"
      ],
      "metadata": {
        "id": "aTeE74P3goqe"
      },
      "execution_count": null,
      "outputs": []
    },
    {
      "cell_type": "code",
      "source": [
        "#upload the pickle file on session storage before running this cell\n",
        "from google.colab import files\n",
        "files.download('source.pkl')\n",
        "\n",
        "with open('source.pkl', 'rb') as f:\n",
        "  chunks = pickle.load(f)"
      ],
      "metadata": {
        "colab": {
          "base_uri": "https://localhost:8080/",
          "height": 17
        },
        "id": "bnmryC6czHfO",
        "outputId": "ab9aad80-0832-4e42-8f86-4668c4318fcb"
      },
      "execution_count": null,
      "outputs": [
        {
          "output_type": "display_data",
          "data": {
            "text/plain": [
              "<IPython.core.display.Javascript object>"
            ],
            "application/javascript": [
              "\n",
              "    async function download(id, filename, size) {\n",
              "      if (!google.colab.kernel.accessAllowed) {\n",
              "        return;\n",
              "      }\n",
              "      const div = document.createElement('div');\n",
              "      const label = document.createElement('label');\n",
              "      label.textContent = `Downloading \"${filename}\": `;\n",
              "      div.appendChild(label);\n",
              "      const progress = document.createElement('progress');\n",
              "      progress.max = size;\n",
              "      div.appendChild(progress);\n",
              "      document.body.appendChild(div);\n",
              "\n",
              "      const buffers = [];\n",
              "      let downloaded = 0;\n",
              "\n",
              "      const channel = await google.colab.kernel.comms.open(id);\n",
              "      // Send a message to notify the kernel that we're ready.\n",
              "      channel.send({})\n",
              "\n",
              "      for await (const message of channel.messages) {\n",
              "        // Send a message to notify the kernel that we're ready.\n",
              "        channel.send({})\n",
              "        if (message.buffers) {\n",
              "          for (const buffer of message.buffers) {\n",
              "            buffers.push(buffer);\n",
              "            downloaded += buffer.byteLength;\n",
              "            progress.value = downloaded;\n",
              "          }\n",
              "        }\n",
              "      }\n",
              "      const blob = new Blob(buffers, {type: 'application/binary'});\n",
              "      const a = document.createElement('a');\n",
              "      a.href = window.URL.createObjectURL(blob);\n",
              "      a.download = filename;\n",
              "      div.appendChild(a);\n",
              "      a.click();\n",
              "      div.remove();\n",
              "    }\n",
              "  "
            ]
          },
          "metadata": {}
        },
        {
          "output_type": "display_data",
          "data": {
            "text/plain": [
              "<IPython.core.display.Javascript object>"
            ],
            "application/javascript": [
              "download(\"download_d007f155-b808-4acd-b938-0160703e0f2c\", \"source.pkl\", 1100936)"
            ]
          },
          "metadata": {}
        }
      ]
    },
    {
      "cell_type": "code",
      "source": [
        "#setting up the api environment\n",
        "api_key = str(input(\"enter your api key: \"))\n",
        "os.environ[\"OPENAI_API_KEY\"] = api_key"
      ],
      "metadata": {
        "id": "uxxrvi8PhDlN"
      },
      "execution_count": null,
      "outputs": []
    },
    {
      "cell_type": "code",
      "source": [
        "#Getting embedding model from HuggingFace and creating a vector database out of our chunks\n",
        "embeddings = HuggingFaceInstructEmbeddings(model_name = \"hku-nlp/instructor-base\")\n",
        "db = FAISS.from_documents(chunks, embeddings)\n",
        "\n",
        "#Setting up chat history management - creating conversation chain that uses our db as retriver\n",
        "qa = ConversationalRetrievalChain.from_llm(OpenAI(temperature = 0.1), db.as_retriever(), max_tokens_limit = 3000)"
      ],
      "metadata": {
        "id": "p7uDkpV0hUAv"
      },
      "execution_count": null,
      "outputs": []
    },
    {
      "cell_type": "code",
      "source": [
        "#Bringing it all together - the actual widget\n",
        "chat_history = []\n",
        "\n",
        "def on_submit(_):\n",
        "    query = input_box.value\n",
        "    input_box.value = \"\"\n",
        "\n",
        "    if query.lower() == 'exit':\n",
        "        print(\"I enjoyed this chat, hope you did too! Come back soon to uncover more fascinating aspects of the world of Physics.\")\n",
        "        return\n",
        "\n",
        "    result = qa({\"question\": query, \"chat_history\": chat_history})\n",
        "    ans = result['answer']\n",
        "\n",
        "    prompt = f'''Rephrase the answer in the first person perspective as if it were written by Richard Feynman:\n",
        "              \"{ans}\" '''\n",
        "\n",
        "    response = openai.Completion.create(engine=\"text-davinci-002\",  prompt=prompt, max_tokens = 500, api_key = api_key)\n",
        "\n",
        "    final_ans = response.choices[0].text\n",
        "\n",
        "    chat_history.append((query, final_ans))\n",
        "\n",
        "    display(widgets.HTML(f'<b>User:</b> {query}'))\n",
        "    display(widgets.HTML(f'<b><font color=\"blue\">Mr.Feynman:</font></b> {final_ans}'))\n",
        "\n",
        "print(\"It's a fine day for some FeynPhysics! Type 'exit' to stop.\")\n",
        "\n",
        "input_box = widgets.Text(placeholder='What fascinates you today?')\n",
        "input_box.on_submit(on_submit)\n",
        "\n",
        "display(input_box)"
      ],
      "metadata": {
        "id": "IHma3phehk-N"
      },
      "execution_count": null,
      "outputs": []
    }
  ]
}